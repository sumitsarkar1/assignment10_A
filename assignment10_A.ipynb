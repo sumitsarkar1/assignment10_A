{
 "cells": [
  {
   "cell_type": "code",
   "execution_count": 1,
   "metadata": {},
   "outputs": [],
   "source": [
    "#!git clone https://github.com/sumitsarkar1/sumitEVA7.git\n",
    "#%mv sumitEVA7/pytorch_grad_cam/ ."
   ]
  },
  {
   "cell_type": "code",
   "execution_count": 2,
   "metadata": {
    "colab": {},
    "colab_type": "code",
    "id": "C6W0xIa667bZ"
   },
   "outputs": [],
   "source": [
    "import torch\n",
    "import torchvision\n",
    "import torch.nn as nn\n",
    "import torch.optim as optim\n",
    "from torch.optim.lr_scheduler import OneCycleLR, ReduceLROnPlateau"
   ]
  },
  {
   "cell_type": "code",
   "execution_count": 3,
   "metadata": {},
   "outputs": [
    {
     "name": "stderr",
     "output_type": "stream",
     "text": [
      "/home/sumit/anaconda3/envs/resnet/lib/python3.8/site-packages/albumentations/augmentations/transforms.py:689: FutureWarning: This class has been deprecated. Please use CoarseDropout\n",
      "  warnings.warn(\n"
     ]
    }
   ],
   "source": [
    "import main\n",
    "\n",
    "device = 'cuda' if torch.cuda.is_available() else 'cpu'\n",
    "\n",
    "# get the resnet18  model\n",
    "net = main.getModel()\n",
    "net = net.to(device)\n",
    "root_dir = ''\n",
    "\n",
    "trainloader, testloader = main.prepareData()"
   ]
  },
  {
   "cell_type": "code",
   "execution_count": 4,
   "metadata": {
    "colab": {
     "base_uri": "https://localhost:8080/",
     "height": 150
    },
    "colab_type": "code",
    "id": "f3bSIGeD7MwS",
    "outputId": "15b61b81-f5c2-4d27-c9aa-36d08ad592e3"
   },
   "outputs": [
    {
     "name": "stdout",
     "output_type": "stream",
     "text": [
      "train data set :  70.0 %\n",
      "test data set :  30.0 %\n"
     ]
    }
   ],
   "source": [
    "print(\"train data set : \",len(trainloader)*100/(len(trainloader) + len(testloader)),\"%\")\n",
    "print(\"test data set : \",len(testloader)*100/(len(trainloader) + len(testloader)),\"%\")"
   ]
  },
  {
   "cell_type": "code",
   "execution_count": 5,
   "metadata": {
    "colab": {
     "base_uri": "https://localhost:8080/",
     "height": 1000
    },
    "colab_type": "code",
    "id": "VJiTJeku9EiF",
    "outputId": "3faa755a-a697-4ab7-84ef-fb02fcc7f85a"
   },
   "outputs": [
    {
     "name": "stdout",
     "output_type": "stream",
     "text": [
      "----------------------------------------------------------------\n",
      "        Layer (type)               Output Shape         Param #\n",
      "================================================================\n",
      "            Conv2d-1           [-1, 64, 64, 64]           1,728\n",
      "       BatchNorm2d-2           [-1, 64, 64, 64]             128\n",
      "            Conv2d-3           [-1, 64, 64, 64]          36,864\n",
      "       BatchNorm2d-4           [-1, 64, 64, 64]             128\n",
      "            Conv2d-5           [-1, 64, 64, 64]          36,864\n",
      "       BatchNorm2d-6           [-1, 64, 64, 64]             128\n",
      "        BasicBlock-7           [-1, 64, 64, 64]               0\n",
      "            Conv2d-8           [-1, 64, 64, 64]          36,864\n",
      "       BatchNorm2d-9           [-1, 64, 64, 64]             128\n",
      "           Conv2d-10           [-1, 64, 64, 64]          36,864\n",
      "      BatchNorm2d-11           [-1, 64, 64, 64]             128\n",
      "       BasicBlock-12           [-1, 64, 64, 64]               0\n",
      "           Conv2d-13          [-1, 128, 32, 32]          73,728\n",
      "      BatchNorm2d-14          [-1, 128, 32, 32]             256\n",
      "           Conv2d-15          [-1, 128, 32, 32]         147,456\n",
      "      BatchNorm2d-16          [-1, 128, 32, 32]             256\n",
      "           Conv2d-17          [-1, 128, 32, 32]           8,192\n",
      "      BatchNorm2d-18          [-1, 128, 32, 32]             256\n",
      "       BasicBlock-19          [-1, 128, 32, 32]               0\n",
      "           Conv2d-20          [-1, 128, 32, 32]         147,456\n",
      "      BatchNorm2d-21          [-1, 128, 32, 32]             256\n",
      "           Conv2d-22          [-1, 128, 32, 32]         147,456\n",
      "      BatchNorm2d-23          [-1, 128, 32, 32]             256\n",
      "       BasicBlock-24          [-1, 128, 32, 32]               0\n",
      "           Conv2d-25          [-1, 256, 16, 16]         294,912\n",
      "      BatchNorm2d-26          [-1, 256, 16, 16]             512\n",
      "           Conv2d-27          [-1, 256, 16, 16]         589,824\n",
      "      BatchNorm2d-28          [-1, 256, 16, 16]             512\n",
      "           Conv2d-29          [-1, 256, 16, 16]          32,768\n",
      "      BatchNorm2d-30          [-1, 256, 16, 16]             512\n",
      "       BasicBlock-31          [-1, 256, 16, 16]               0\n",
      "           Conv2d-32          [-1, 256, 16, 16]         589,824\n",
      "      BatchNorm2d-33          [-1, 256, 16, 16]             512\n",
      "           Conv2d-34          [-1, 256, 16, 16]         589,824\n",
      "      BatchNorm2d-35          [-1, 256, 16, 16]             512\n",
      "       BasicBlock-36          [-1, 256, 16, 16]               0\n",
      "           Conv2d-37            [-1, 512, 8, 8]       1,179,648\n",
      "      BatchNorm2d-38            [-1, 512, 8, 8]           1,024\n",
      "           Conv2d-39            [-1, 512, 8, 8]       2,359,296\n",
      "      BatchNorm2d-40            [-1, 512, 8, 8]           1,024\n",
      "           Conv2d-41            [-1, 512, 8, 8]         131,072\n",
      "      BatchNorm2d-42            [-1, 512, 8, 8]           1,024\n",
      "       BasicBlock-43            [-1, 512, 8, 8]               0\n",
      "           Conv2d-44            [-1, 512, 8, 8]       2,359,296\n",
      "      BatchNorm2d-45            [-1, 512, 8, 8]           1,024\n",
      "           Conv2d-46            [-1, 512, 8, 8]       2,359,296\n",
      "      BatchNorm2d-47            [-1, 512, 8, 8]           1,024\n",
      "       BasicBlock-48            [-1, 512, 8, 8]               0\n",
      "           Linear-49                  [-1, 200]         102,600\n",
      "================================================================\n",
      "Total params: 11,271,432\n",
      "Trainable params: 11,271,432\n",
      "Non-trainable params: 0\n",
      "----------------------------------------------------------------\n",
      "Input size (MB): 0.05\n",
      "Forward/backward pass size (MB): 45.00\n",
      "Params size (MB): 43.00\n",
      "Estimated Total Size (MB): 88.05\n",
      "----------------------------------------------------------------\n"
     ]
    }
   ],
   "source": [
    "from torchsummary import summary\n",
    "summary(net, (3,64,64))"
   ]
  },
  {
   "cell_type": "code",
   "execution_count": 6,
   "metadata": {},
   "outputs": [],
   "source": [
    "torch.cuda.empty_cache()"
   ]
  },
  {
   "cell_type": "code",
   "execution_count": 7,
   "metadata": {
    "colab": {
     "base_uri": "https://localhost:8080/",
     "height": 1000
    },
    "colab_type": "code",
    "id": "A0M-yKLP-CF5",
    "outputId": "8b11fd02-48cc-45b2-91f2-c2e896ec27c6"
   },
   "outputs": [
    {
     "name": "stdout",
     "output_type": "stream",
     "text": [
      "EPOCH: 1 LR Value:  0.0007999999999999986\n"
     ]
    },
    {
     "name": "stderr",
     "output_type": "stream",
     "text": [
      "Loss=3.3141345977783203 Batch_id=1203 Train Accuracy=7.04: 100%|█| 1204/120\n"
     ]
    },
    {
     "name": "stdout",
     "output_type": "stream",
     "text": [
      "\n",
      "Test set: Average loss: 0.0638, Test Accuracy: 4094/33000 (12.41%)\n",
      "\n",
      "EPOCH: 2 LR Value:  0.001009806181671461\n"
     ]
    },
    {
     "name": "stderr",
     "output_type": "stream",
     "text": [
      "Loss=4.022518634796143 Batch_id=1203 Train Accuracy=15.53: 100%|█| 1204/120\n"
     ]
    },
    {
     "name": "stdout",
     "output_type": "stream",
     "text": [
      "\n",
      "Test set: Average loss: 0.0608, Test Accuracy: 5210/33000 (15.79%)\n",
      "\n",
      "EPOCH: 3 LR Value:  0.001630054177963445\n"
     ]
    },
    {
     "name": "stderr",
     "output_type": "stream",
     "text": [
      "Loss=2.7902557849884033 Batch_id=1203 Train Accuracy=21.69: 100%|█| 1204/12\n"
     ]
    },
    {
     "name": "stdout",
     "output_type": "stream",
     "text": [
      "\n",
      "Test set: Average loss: 0.0530, Test Accuracy: 7628/33000 (23.12%)\n",
      "\n",
      "EPOCH: 4 LR Value:  0.0026336331839194073\n"
     ]
    },
    {
     "name": "stderr",
     "output_type": "stream",
     "text": [
      "Loss=3.0864572525024414 Batch_id=1203 Train Accuracy=26.33: 100%|█| 1204/12\n"
     ]
    },
    {
     "name": "stdout",
     "output_type": "stream",
     "text": [
      "\n",
      "Test set: Average loss: 0.0516, Test Accuracy: 8511/33000 (25.79%)\n",
      "\n",
      "EPOCH: 5 LR Value:  0.003976677141363249\n"
     ]
    },
    {
     "name": "stderr",
     "output_type": "stream",
     "text": [
      "Loss=3.0082011222839355 Batch_id=1203 Train Accuracy=30.46: 100%|█| 1204/12\n"
     ]
    },
    {
     "name": "stdout",
     "output_type": "stream",
     "text": [
      "\n",
      "Test set: Average loss: 0.0488, Test Accuracy: 9356/33000 (28.35%)\n",
      "\n",
      "EPOCH: 6 LR Value:  0.005600482107684926\n"
     ]
    },
    {
     "name": "stderr",
     "output_type": "stream",
     "text": [
      "Loss=2.616384744644165 Batch_id=1203 Train Accuracy=34.50: 100%|█| 1204/120\n"
     ]
    },
    {
     "name": "stdout",
     "output_type": "stream",
     "text": [
      "\n",
      "Test set: Average loss: 0.0447, Test Accuracy: 10800/33000 (32.73%)\n",
      "\n",
      "EPOCH: 7 LR Value:  0.007434072182933791\n"
     ]
    },
    {
     "name": "stderr",
     "output_type": "stream",
     "text": [
      "Loss=2.9294545650482178 Batch_id=1203 Train Accuracy=37.74: 100%|█| 1204/12\n"
     ]
    },
    {
     "name": "stdout",
     "output_type": "stream",
     "text": [
      "\n",
      "Test set: Average loss: 0.0421, Test Accuracy: 11936/33000 (36.17%)\n",
      "\n",
      "EPOCH: 8 LR Value:  0.009397301839518453\n"
     ]
    },
    {
     "name": "stderr",
     "output_type": "stream",
     "text": [
      "Loss=2.5996274948120117 Batch_id=1203 Train Accuracy=41.52: 100%|█| 1204/12\n"
     ]
    },
    {
     "name": "stdout",
     "output_type": "stream",
     "text": [
      "\n",
      "Test set: Average loss: 0.0416, Test Accuracy: 12452/33000 (37.73%)\n",
      "\n",
      "EPOCH: 9 LR Value:  0.01140435905285721\n"
     ]
    },
    {
     "name": "stderr",
     "output_type": "stream",
     "text": [
      "Loss=3.0497822761535645 Batch_id=1203 Train Accuracy=44.20: 100%|█| 1204/12\n"
     ]
    },
    {
     "name": "stdout",
     "output_type": "stream",
     "text": [
      "\n",
      "Test set: Average loss: 0.0421, Test Accuracy: 12378/33000 (37.51%)\n",
      "\n",
      "EPOCH: 10 LR Value:  0.013367516112465307\n"
     ]
    },
    {
     "name": "stderr",
     "output_type": "stream",
     "text": [
      "Loss=1.7933018207550049 Batch_id=1203 Train Accuracy=47.15: 100%|█| 1204/12\n"
     ]
    },
    {
     "name": "stdout",
     "output_type": "stream",
     "text": [
      "\n",
      "Test set: Average loss: 0.0372, Test Accuracy: 14356/33000 (43.50%)\n",
      "\n",
      "EPOCH: 11 LR Value:  0.01520096416694739\n"
     ]
    },
    {
     "name": "stderr",
     "output_type": "stream",
     "text": [
      "Loss=2.384347915649414 Batch_id=1203 Train Accuracy=49.65: 100%|█| 1204/120\n"
     ]
    },
    {
     "name": "stdout",
     "output_type": "stream",
     "text": [
      "\n",
      "Test set: Average loss: 0.0370, Test Accuracy: 14565/33000 (44.14%)\n",
      "\n",
      "EPOCH: 12 LR Value:  0.016824563896385984\n"
     ]
    },
    {
     "name": "stderr",
     "output_type": "stream",
     "text": [
      "Loss=2.021987199783325 Batch_id=1203 Train Accuracy=52.21: 100%|█| 1204/120\n"
     ]
    },
    {
     "name": "stdout",
     "output_type": "stream",
     "text": [
      "\n",
      "Test set: Average loss: 0.0344, Test Accuracy: 15427/33000 (46.75%)\n",
      "\n",
      "EPOCH: 13 LR Value:  0.01816734837165685\n"
     ]
    },
    {
     "name": "stderr",
     "output_type": "stream",
     "text": [
      "Loss=1.527092695236206 Batch_id=1203 Train Accuracy=54.83: 100%|█| 1204/120\n"
     ]
    },
    {
     "name": "stdout",
     "output_type": "stream",
     "text": [
      "\n",
      "Test set: Average loss: 0.0362, Test Accuracy: 14875/33000 (45.08%)\n",
      "\n",
      "EPOCH: 14 LR Value:  0.019170624992017427\n"
     ]
    },
    {
     "name": "stderr",
     "output_type": "stream",
     "text": [
      "Loss=1.4844820499420166 Batch_id=1203 Train Accuracy=56.73: 100%|█| 1204/12\n"
     ]
    },
    {
     "name": "stdout",
     "output_type": "stream",
     "text": [
      "\n",
      "Test set: Average loss: 0.0336, Test Accuracy: 16064/33000 (48.68%)\n",
      "\n",
      "EPOCH: 15 LR Value:  0.019790540916451445\n"
     ]
    },
    {
     "name": "stderr",
     "output_type": "stream",
     "text": [
      "Loss=2.4961678981781006 Batch_id=1203 Train Accuracy=59.10: 100%|█| 1204/12\n"
     ]
    },
    {
     "name": "stdout",
     "output_type": "stream",
     "text": [
      "\n",
      "Test set: Average loss: 0.0330, Test Accuracy: 16287/33000 (49.35%)\n",
      "\n",
      "EPOCH: 16 LR Value:  0.019999999972210615\n"
     ]
    },
    {
     "name": "stderr",
     "output_type": "stream",
     "text": [
      "Loss=1.9654109477996826 Batch_id=1203 Train Accuracy=61.39: 100%|█| 1204/12\n"
     ]
    },
    {
     "name": "stdout",
     "output_type": "stream",
     "text": [
      "\n",
      "Test set: Average loss: 0.0337, Test Accuracy: 16351/33000 (49.55%)\n",
      "\n",
      "EPOCH: 17 LR Value:  0.019959676246281848\n"
     ]
    },
    {
     "name": "stderr",
     "output_type": "stream",
     "text": [
      "Loss=2.6919164657592773 Batch_id=1203 Train Accuracy=63.35: 100%|█| 1204/12\n"
     ]
    },
    {
     "name": "stdout",
     "output_type": "stream",
     "text": [
      "\n",
      "Test set: Average loss: 0.0325, Test Accuracy: 16807/33000 (50.93%)\n",
      "\n",
      "EPOCH: 18 LR Value:  0.0198391633854693\n"
     ]
    },
    {
     "name": "stderr",
     "output_type": "stream",
     "text": [
      "Loss=3.1475982666015625 Batch_id=1203 Train Accuracy=65.40: 100%|█| 1204/12\n"
     ]
    },
    {
     "name": "stdout",
     "output_type": "stream",
     "text": [
      "\n",
      "Test set: Average loss: 0.0326, Test Accuracy: 16987/33000 (51.48%)\n",
      "\n",
      "EPOCH: 19 LR Value:  0.019639431688467813\n"
     ]
    },
    {
     "name": "stderr",
     "output_type": "stream",
     "text": [
      "Loss=2.0644595623016357 Batch_id=1203 Train Accuracy=67.61: 100%|█| 1204/12\n"
     ]
    },
    {
     "name": "stdout",
     "output_type": "stream",
     "text": [
      "\n",
      "Test set: Average loss: 0.0332, Test Accuracy: 17052/33000 (51.67%)\n",
      "\n",
      "EPOCH: 20 LR Value:  0.019362089277461317\n"
     ]
    },
    {
     "name": "stderr",
     "output_type": "stream",
     "text": [
      "Loss=1.8234801292419434 Batch_id=1203 Train Accuracy=69.60: 100%|█| 1204/12\n"
     ]
    },
    {
     "name": "stdout",
     "output_type": "stream",
     "text": [
      "\n",
      "Test set: Average loss: 0.0340, Test Accuracy: 16930/33000 (51.30%)\n",
      "\n",
      "EPOCH: 21 LR Value:  0.019009369150468528\n"
     ]
    },
    {
     "name": "stderr",
     "output_type": "stream",
     "text": [
      "Loss=2.8037235736846924 Batch_id=1203 Train Accuracy=71.44: 100%|█| 1204/12\n"
     ]
    },
    {
     "name": "stdout",
     "output_type": "stream",
     "text": [
      "\n",
      "Test set: Average loss: 0.0335, Test Accuracy: 17224/33000 (52.19%)\n",
      "\n",
      "EPOCH: 22 LR Value:  0.018584111202555917\n"
     ]
    },
    {
     "name": "stderr",
     "output_type": "stream",
     "text": [
      "Loss=0.5863944292068481 Batch_id=1203 Train Accuracy=73.55: 100%|█| 1204/12\n"
     ]
    },
    {
     "name": "stdout",
     "output_type": "stream",
     "text": [
      "\n",
      "Test set: Average loss: 0.0336, Test Accuracy: 17560/33000 (53.21%)\n",
      "\n",
      "EPOCH: 23 LR Value:  0.01808973936067246\n"
     ]
    },
    {
     "name": "stderr",
     "output_type": "stream",
     "text": [
      "Loss=1.488130807876587 Batch_id=1203 Train Accuracy=75.91: 100%|█| 1204/120\n"
     ]
    },
    {
     "name": "stdout",
     "output_type": "stream",
     "text": [
      "\n",
      "Test set: Average loss: 0.0337, Test Accuracy: 17527/33000 (53.11%)\n",
      "\n",
      "EPOCH: 24 LR Value:  0.017530234016203065\n"
     ]
    },
    {
     "name": "stderr",
     "output_type": "stream",
     "text": [
      "Loss=0.7441226840019226 Batch_id=1203 Train Accuracy=77.28: 100%|█| 1204/12\n"
     ]
    },
    {
     "name": "stdout",
     "output_type": "stream",
     "text": [
      "\n",
      "Test set: Average loss: 0.0337, Test Accuracy: 17542/33000 (53.16%)\n",
      "\n",
      "EPOCH: 25 LR Value:  0.016910099977197578\n"
     ]
    },
    {
     "name": "stderr",
     "output_type": "stream",
     "text": [
      "Loss=1.8227883577346802 Batch_id=1203 Train Accuracy=79.86: 100%|█| 1204/12\n"
     ]
    },
    {
     "name": "stdout",
     "output_type": "stream",
     "text": [
      "\n",
      "Test set: Average loss: 0.0342, Test Accuracy: 17682/33000 (53.58%)\n",
      "\n",
      "EPOCH: 26 LR Value:  0.01623433019830517\n"
     ]
    },
    {
     "name": "stderr",
     "output_type": "stream",
     "text": [
      "Loss=1.5041298866271973 Batch_id=1203 Train Accuracy=81.61: 100%|█| 1204/12\n"
     ]
    },
    {
     "name": "stdout",
     "output_type": "stream",
     "text": [
      "\n",
      "Test set: Average loss: 0.0356, Test Accuracy: 17588/33000 (53.30%)\n",
      "\n",
      "EPOCH: 27 LR Value:  0.015508365580439281\n"
     ]
    },
    {
     "name": "stderr",
     "output_type": "stream",
     "text": [
      "Loss=1.2779179811477661 Batch_id=1203 Train Accuracy=83.40: 100%|█| 1204/12\n"
     ]
    },
    {
     "name": "stdout",
     "output_type": "stream",
     "text": [
      "\n",
      "Test set: Average loss: 0.0359, Test Accuracy: 17847/33000 (54.08%)\n",
      "\n",
      "EPOCH: 28 LR Value:  0.014738051163842684\n"
     ]
    },
    {
     "name": "stderr",
     "output_type": "stream",
     "text": [
      "Loss=0.7475445866584778 Batch_id=1203 Train Accuracy=85.50: 100%|█| 1204/12\n"
     ]
    },
    {
     "name": "stdout",
     "output_type": "stream",
     "text": [
      "\n",
      "Test set: Average loss: 0.0364, Test Accuracy: 17750/33000 (53.79%)\n",
      "\n",
      "EPOCH: 29 LR Value:  0.013929589067260275\n"
     ]
    },
    {
     "name": "stderr",
     "output_type": "stream",
     "text": [
      "Loss=2.6991734504699707 Batch_id=1203 Train Accuracy=87.44: 100%|█| 1204/12\n"
     ]
    },
    {
     "name": "stdout",
     "output_type": "stream",
     "text": [
      "\n",
      "Test set: Average loss: 0.0375, Test Accuracy: 17789/33000 (53.91%)\n",
      "\n",
      "EPOCH: 30 LR Value:  0.013089488552125723\n"
     ]
    },
    {
     "name": "stderr",
     "output_type": "stream",
     "text": [
      "Loss=1.493781328201294 Batch_id=1203 Train Accuracy=88.85: 100%|█| 1204/120\n"
     ]
    },
    {
     "name": "stdout",
     "output_type": "stream",
     "text": [
      "\n",
      "Test set: Average loss: 0.0373, Test Accuracy: 17889/33000 (54.21%)\n",
      "\n",
      "EPOCH: 31 LR Value:  0.012224513613815784\n"
     ]
    },
    {
     "name": "stderr",
     "output_type": "stream",
     "text": [
      "Loss=1.6238032579421997 Batch_id=1203 Train Accuracy=90.61: 100%|█| 1204/12\n"
     ]
    },
    {
     "name": "stdout",
     "output_type": "stream",
     "text": [
      "\n",
      "Test set: Average loss: 0.0381, Test Accuracy: 17952/33000 (54.40%)\n",
      "\n",
      "EPOCH: 32 LR Value:  0.011341628521936707\n"
     ]
    },
    {
     "name": "stderr",
     "output_type": "stream",
     "text": [
      "Loss=0.9528794288635254 Batch_id=1203 Train Accuracy=91.91: 100%|█| 1204/12\n"
     ]
    },
    {
     "name": "stdout",
     "output_type": "stream",
     "text": [
      "\n",
      "Test set: Average loss: 0.0375, Test Accuracy: 18089/33000 (54.82%)\n",
      "\n",
      "EPOCH: 33 LR Value:  0.01044794174812027\n"
     ]
    },
    {
     "name": "stderr",
     "output_type": "stream",
     "text": [
      "Loss=0.18019244074821472 Batch_id=1203 Train Accuracy=93.45: 100%|█| 1204/1\n"
     ]
    },
    {
     "name": "stdout",
     "output_type": "stream",
     "text": [
      "\n",
      "Test set: Average loss: 0.0382, Test Accuracy: 18210/33000 (55.18%)\n",
      "\n",
      "EPOCH: 34 LR Value:  0.009550648732789931\n"
     ]
    },
    {
     "name": "stderr",
     "output_type": "stream",
     "text": [
      "Loss=1.4158657789230347 Batch_id=1203 Train Accuracy=94.82: 100%|█| 1204/12\n"
     ]
    },
    {
     "name": "stdout",
     "output_type": "stream",
     "text": [
      "\n",
      "Test set: Average loss: 0.0382, Test Accuracy: 18330/33000 (55.55%)\n",
      "\n",
      "EPOCH: 35 LR Value:  0.008656973951705383\n"
     ]
    },
    {
     "name": "stderr",
     "output_type": "stream",
     "text": [
      "Loss=0.7808071374893188 Batch_id=1203 Train Accuracy=95.78: 100%|█| 1204/12\n"
     ]
    },
    {
     "name": "stdout",
     "output_type": "stream",
     "text": [
      "\n",
      "Test set: Average loss: 0.0384, Test Accuracy: 18331/33000 (55.55%)\n",
      "\n",
      "EPOCH: 36 LR Value:  0.0077741127487316545\n"
     ]
    },
    {
     "name": "stderr",
     "output_type": "stream",
     "text": [
      "Loss=0.5164927840232849 Batch_id=1203 Train Accuracy=96.67: 100%|█| 1204/12\n"
     ]
    },
    {
     "name": "stdout",
     "output_type": "stream",
     "text": [
      "\n",
      "Test set: Average loss: 0.0390, Test Accuracy: 18448/33000 (55.90%)\n",
      "\n",
      "EPOCH: 37 LR Value:  0.00690917340316111\n"
     ]
    },
    {
     "name": "stderr",
     "output_type": "stream",
     "text": [
      "Loss=1.0471559762954712 Batch_id=1203 Train Accuracy=97.21: 100%|█| 1204/12\n"
     ]
    },
    {
     "name": "stdout",
     "output_type": "stream",
     "text": [
      "\n",
      "Test set: Average loss: 0.0383, Test Accuracy: 18679/33000 (56.60%)\n",
      "\n",
      "EPOCH: 38 LR Value:  0.006069119898028185\n"
     ]
    },
    {
     "name": "stderr",
     "output_type": "stream",
     "text": [
      "Loss=0.08034481853246689 Batch_id=1203 Train Accuracy=97.83: 100%|█| 1204/1\n"
     ]
    },
    {
     "name": "stdout",
     "output_type": "stream",
     "text": [
      "\n",
      "Test set: Average loss: 0.0389, Test Accuracy: 18722/33000 (56.73%)\n",
      "\n",
      "EPOCH: 39 LR Value:  0.005260715850212745\n"
     ]
    },
    {
     "name": "stderr",
     "output_type": "stream",
     "text": [
      "Loss=0.45934560894966125 Batch_id=1203 Train Accuracy=98.44: 100%|█| 1204/1\n"
     ]
    },
    {
     "name": "stdout",
     "output_type": "stream",
     "text": [
      "\n",
      "Test set: Average loss: 0.0386, Test Accuracy: 18816/33000 (57.02%)\n",
      "\n",
      "EPOCH: 40 LR Value:  0.004490470053773921\n"
     ]
    },
    {
     "name": "stderr",
     "output_type": "stream",
     "text": [
      "Loss=0.8080676794052124 Batch_id=1203 Train Accuracy=98.69: 100%|█| 1204/12\n"
     ]
    },
    {
     "name": "stdout",
     "output_type": "stream",
     "text": [
      "\n",
      "Test set: Average loss: 0.0388, Test Accuracy: 18903/33000 (57.28%)\n",
      "\n",
      "EPOCH: 41 LR Value:  0.003764584074967442\n"
     ]
    },
    {
     "name": "stderr",
     "output_type": "stream",
     "text": [
      "Loss=0.4778521955013275 Batch_id=1203 Train Accuracy=98.91: 100%|█| 1204/12\n"
     ]
    },
    {
     "name": "stdout",
     "output_type": "stream",
     "text": [
      "\n",
      "Test set: Average loss: 0.0385, Test Accuracy: 18978/33000 (57.51%)\n",
      "\n",
      "EPOCH: 42 LR Value:  0.0030889023208806195\n"
     ]
    },
    {
     "name": "stderr",
     "output_type": "stream",
     "text": [
      "Loss=0.10566432774066925 Batch_id=1203 Train Accuracy=99.19: 100%|█| 1204/1\n"
     ]
    },
    {
     "name": "stdout",
     "output_type": "stream",
     "text": [
      "\n",
      "Test set: Average loss: 0.0389, Test Accuracy: 18978/33000 (57.51%)\n",
      "\n",
      "EPOCH: 43 LR Value:  0.002468864983702914\n"
     ]
    },
    {
     "name": "stderr",
     "output_type": "stream",
     "text": [
      "Loss=0.22020238637924194 Batch_id=1203 Train Accuracy=99.33: 100%|█| 1204/1\n"
     ]
    },
    {
     "name": "stdout",
     "output_type": "stream",
     "text": [
      "\n",
      "Test set: Average loss: 0.0388, Test Accuracy: 19034/33000 (57.68%)\n",
      "\n",
      "EPOCH: 44 LR Value:  0.001909464239497235\n"
     ]
    },
    {
     "name": "stderr",
     "output_type": "stream",
     "text": [
      "Loss=0.579412043094635 Batch_id=1203 Train Accuracy=99.44: 100%|█| 1204/120\n"
     ]
    },
    {
     "name": "stdout",
     "output_type": "stream",
     "text": [
      "\n",
      "Test set: Average loss: 0.0386, Test Accuracy: 18998/33000 (57.57%)\n",
      "\n",
      "EPOCH: 45 LR Value:  0.0014152040541336158\n"
     ]
    },
    {
     "name": "stderr",
     "output_type": "stream",
     "text": [
      "Loss=0.20324552059173584 Batch_id=1203 Train Accuracy=99.55: 100%|█| 1204/1\n"
     ]
    },
    {
     "name": "stdout",
     "output_type": "stream",
     "text": [
      "\n",
      "Test set: Average loss: 0.0383, Test Accuracy: 19025/33000 (57.65%)\n",
      "\n",
      "EPOCH: 46 LR Value:  0.0009900639200043195\n"
     ]
    },
    {
     "name": "stderr",
     "output_type": "stream",
     "text": [
      "Loss=0.2739030122756958 Batch_id=1203 Train Accuracy=99.65: 100%|█| 1204/12\n"
     ]
    },
    {
     "name": "stdout",
     "output_type": "stream",
     "text": [
      "\n",
      "Test set: Average loss: 0.0385, Test Accuracy: 19098/33000 (57.87%)\n",
      "\n",
      "EPOCH: 47 LR Value:  0.0006374668154910062\n"
     ]
    },
    {
     "name": "stderr",
     "output_type": "stream",
     "text": [
      "Loss=0.04947947710752487 Batch_id=1203 Train Accuracy=99.62: 100%|█| 1204/1\n"
     ]
    },
    {
     "name": "stdout",
     "output_type": "stream",
     "text": [
      "\n",
      "Test set: Average loss: 0.0383, Test Accuracy: 19093/33000 (57.86%)\n",
      "\n",
      "EPOCH: 48 LR Value:  0.0003602516451554769\n"
     ]
    },
    {
     "name": "stderr",
     "output_type": "stream",
     "text": [
      "Loss=0.4188329577445984 Batch_id=1203 Train Accuracy=99.66: 100%|█| 1204/12\n"
     ]
    },
    {
     "name": "stdout",
     "output_type": "stream",
     "text": [
      "\n",
      "Test set: Average loss: 0.0386, Test Accuracy: 19041/33000 (57.70%)\n",
      "\n",
      "EPOCH: 49 LR Value:  0.00016065038254939196\n"
     ]
    },
    {
     "name": "stderr",
     "output_type": "stream",
     "text": [
      "Loss=0.3622516691684723 Batch_id=1203 Train Accuracy=99.68: 100%|█| 1204/12\n"
     ]
    },
    {
     "name": "stdout",
     "output_type": "stream",
     "text": [
      "\n",
      "Test set: Average loss: 0.0384, Test Accuracy: 19126/33000 (57.96%)\n",
      "\n",
      "EPOCH: 50 LR Value:  4.0270099675616e-05\n"
     ]
    },
    {
     "name": "stderr",
     "output_type": "stream",
     "text": [
      "Loss=0.38646507263183594 Batch_id=1203 Train Accuracy=99.66: 100%|█| 1204/1\n"
     ]
    },
    {
     "name": "stdout",
     "output_type": "stream",
     "text": [
      "\n",
      "Test set: Average loss: 0.0384, Test Accuracy: 19084/33000 (57.83%)\n",
      "\n"
     ]
    }
   ],
   "source": [
    "epochs = 50\n",
    "\n",
    "max_lr = 0.02\n",
    "pct_start = 0.3 #10/epochs\n",
    "steps_per_epoch = len(trainloader)\n",
    "final_div_factor = 1e4\n",
    "div_factor = 25\n",
    "\n",
    "optimizer = main.setOptimizer(net, lr=0.01)\n",
    "scheduler = main.setScheduler(optimizer, epochs, max_lr, steps_per_epoch, pct_start, div_factor, final_div_factor)\n",
    "\n",
    "torch.cuda.empty_cache()\n",
    "\n",
    "lr_variation = []\n",
    "\n",
    "for epoch in range(epochs):\n",
    "    lr_variation.append(optimizer.param_groups[0]['lr'])\n",
    "    print(\"EPOCH:\", epoch+1, \"LR Value: \", lr_variation[-1])\n",
    "    main.train(net, optimizer, scheduler, trainloader, device)\n",
    "    main.test(net, testloader, device)"
   ]
  },
  {
   "cell_type": "code",
   "execution_count": 9,
   "metadata": {},
   "outputs": [
    {
     "name": "stdout",
     "output_type": "stream",
     "text": [
      "LR peak at :  184.27551020408163 th epoch\n"
     ]
    },
    {
     "ename": "ValueError",
     "evalue": "x and y must have same first dimension, but have shapes (4900,) and (60200,)",
     "output_type": "error",
     "traceback": [
      "\u001b[0;31m---------------------------------------------------------------------------\u001b[0m",
      "\u001b[0;31mValueError\u001b[0m                                Traceback (most recent call last)",
      "\u001b[0;32m/tmp/ipykernel_23386/3611458847.py\u001b[0m in \u001b[0;36m<module>\u001b[0;34m\u001b[0m\n\u001b[1;32m     21\u001b[0m \u001b[0maxs\u001b[0m\u001b[0;34m[\u001b[0m\u001b[0;36m1\u001b[0m\u001b[0;34m]\u001b[0m\u001b[0;34m.\u001b[0m\u001b[0mplot\u001b[0m\u001b[0;34m(\u001b[0m\u001b[0mtest_acc\u001b[0m\u001b[0;34m,\u001b[0m \u001b[0mcolor\u001b[0m\u001b[0;34m=\u001b[0m\u001b[0;34m'g'\u001b[0m\u001b[0;34m,\u001b[0m \u001b[0mlabel\u001b[0m\u001b[0;34m=\u001b[0m\u001b[0;34m'Test Accuracy'\u001b[0m\u001b[0;34m)\u001b[0m\u001b[0;34m\u001b[0m\u001b[0;34m\u001b[0m\u001b[0m\n\u001b[1;32m     22\u001b[0m \u001b[0maxs\u001b[0m\u001b[0;34m[\u001b[0m\u001b[0;36m1\u001b[0m\u001b[0;34m]\u001b[0m\u001b[0;34m.\u001b[0m\u001b[0mgrid\u001b[0m\u001b[0;34m(\u001b[0m\u001b[0;34m)\u001b[0m\u001b[0;34m\u001b[0m\u001b[0;34m\u001b[0m\u001b[0m\n\u001b[0;32m---> 23\u001b[0;31m \u001b[0maxs\u001b[0m\u001b[0;34m[\u001b[0m\u001b[0;36m2\u001b[0m\u001b[0;34m]\u001b[0m\u001b[0;34m.\u001b[0m\u001b[0mplot\u001b[0m\u001b[0;34m(\u001b[0m\u001b[0mx_array\u001b[0m\u001b[0;34m,\u001b[0m \u001b[0mlr_plot\u001b[0m\u001b[0;34m)\u001b[0m\u001b[0;34m\u001b[0m\u001b[0;34m\u001b[0m\u001b[0m\n\u001b[0m\u001b[1;32m     24\u001b[0m \u001b[0maxs\u001b[0m\u001b[0;34m[\u001b[0m\u001b[0;36m2\u001b[0m\u001b[0;34m]\u001b[0m\u001b[0;34m.\u001b[0m\u001b[0mgrid\u001b[0m\u001b[0;34m(\u001b[0m\u001b[0;34m)\u001b[0m\u001b[0;34m\u001b[0m\u001b[0;34m\u001b[0m\u001b[0m\n\u001b[1;32m     25\u001b[0m \u001b[0maxs\u001b[0m\u001b[0;34m[\u001b[0m\u001b[0;36m0\u001b[0m\u001b[0;34m]\u001b[0m\u001b[0;34m.\u001b[0m\u001b[0mlegend\u001b[0m\u001b[0;34m(\u001b[0m\u001b[0mloc\u001b[0m\u001b[0;34m=\u001b[0m\u001b[0;34m\"upper right\"\u001b[0m\u001b[0;34m)\u001b[0m\u001b[0;34m\u001b[0m\u001b[0;34m\u001b[0m\u001b[0m\n",
      "\u001b[0;32m~/anaconda3/envs/resnet/lib/python3.8/site-packages/matplotlib/axes/_axes.py\u001b[0m in \u001b[0;36mplot\u001b[0;34m(self, scalex, scaley, data, *args, **kwargs)\u001b[0m\n\u001b[1;32m   1630\u001b[0m         \"\"\"\n\u001b[1;32m   1631\u001b[0m         \u001b[0mkwargs\u001b[0m \u001b[0;34m=\u001b[0m \u001b[0mcbook\u001b[0m\u001b[0;34m.\u001b[0m\u001b[0mnormalize_kwargs\u001b[0m\u001b[0;34m(\u001b[0m\u001b[0mkwargs\u001b[0m\u001b[0;34m,\u001b[0m \u001b[0mmlines\u001b[0m\u001b[0;34m.\u001b[0m\u001b[0mLine2D\u001b[0m\u001b[0;34m)\u001b[0m\u001b[0;34m\u001b[0m\u001b[0;34m\u001b[0m\u001b[0m\n\u001b[0;32m-> 1632\u001b[0;31m         \u001b[0mlines\u001b[0m \u001b[0;34m=\u001b[0m \u001b[0;34m[\u001b[0m\u001b[0;34m*\u001b[0m\u001b[0mself\u001b[0m\u001b[0;34m.\u001b[0m\u001b[0m_get_lines\u001b[0m\u001b[0;34m(\u001b[0m\u001b[0;34m*\u001b[0m\u001b[0margs\u001b[0m\u001b[0;34m,\u001b[0m \u001b[0mdata\u001b[0m\u001b[0;34m=\u001b[0m\u001b[0mdata\u001b[0m\u001b[0;34m,\u001b[0m \u001b[0;34m**\u001b[0m\u001b[0mkwargs\u001b[0m\u001b[0;34m)\u001b[0m\u001b[0;34m]\u001b[0m\u001b[0;34m\u001b[0m\u001b[0;34m\u001b[0m\u001b[0m\n\u001b[0m\u001b[1;32m   1633\u001b[0m         \u001b[0;32mfor\u001b[0m \u001b[0mline\u001b[0m \u001b[0;32min\u001b[0m \u001b[0mlines\u001b[0m\u001b[0;34m:\u001b[0m\u001b[0;34m\u001b[0m\u001b[0;34m\u001b[0m\u001b[0m\n\u001b[1;32m   1634\u001b[0m             \u001b[0mself\u001b[0m\u001b[0;34m.\u001b[0m\u001b[0madd_line\u001b[0m\u001b[0;34m(\u001b[0m\u001b[0mline\u001b[0m\u001b[0;34m)\u001b[0m\u001b[0;34m\u001b[0m\u001b[0;34m\u001b[0m\u001b[0m\n",
      "\u001b[0;32m~/anaconda3/envs/resnet/lib/python3.8/site-packages/matplotlib/axes/_base.py\u001b[0m in \u001b[0;36m__call__\u001b[0;34m(self, data, *args, **kwargs)\u001b[0m\n\u001b[1;32m    310\u001b[0m                 \u001b[0mthis\u001b[0m \u001b[0;34m+=\u001b[0m \u001b[0margs\u001b[0m\u001b[0;34m[\u001b[0m\u001b[0;36m0\u001b[0m\u001b[0;34m]\u001b[0m\u001b[0;34m,\u001b[0m\u001b[0;34m\u001b[0m\u001b[0;34m\u001b[0m\u001b[0m\n\u001b[1;32m    311\u001b[0m                 \u001b[0margs\u001b[0m \u001b[0;34m=\u001b[0m \u001b[0margs\u001b[0m\u001b[0;34m[\u001b[0m\u001b[0;36m1\u001b[0m\u001b[0;34m:\u001b[0m\u001b[0;34m]\u001b[0m\u001b[0;34m\u001b[0m\u001b[0;34m\u001b[0m\u001b[0m\n\u001b[0;32m--> 312\u001b[0;31m             \u001b[0;32myield\u001b[0m \u001b[0;32mfrom\u001b[0m \u001b[0mself\u001b[0m\u001b[0;34m.\u001b[0m\u001b[0m_plot_args\u001b[0m\u001b[0;34m(\u001b[0m\u001b[0mthis\u001b[0m\u001b[0;34m,\u001b[0m \u001b[0mkwargs\u001b[0m\u001b[0;34m)\u001b[0m\u001b[0;34m\u001b[0m\u001b[0;34m\u001b[0m\u001b[0m\n\u001b[0m\u001b[1;32m    313\u001b[0m \u001b[0;34m\u001b[0m\u001b[0m\n\u001b[1;32m    314\u001b[0m     \u001b[0;32mdef\u001b[0m \u001b[0mget_next_color\u001b[0m\u001b[0;34m(\u001b[0m\u001b[0mself\u001b[0m\u001b[0;34m)\u001b[0m\u001b[0;34m:\u001b[0m\u001b[0;34m\u001b[0m\u001b[0;34m\u001b[0m\u001b[0m\n",
      "\u001b[0;32m~/anaconda3/envs/resnet/lib/python3.8/site-packages/matplotlib/axes/_base.py\u001b[0m in \u001b[0;36m_plot_args\u001b[0;34m(self, tup, kwargs, return_kwargs)\u001b[0m\n\u001b[1;32m    496\u001b[0m \u001b[0;34m\u001b[0m\u001b[0m\n\u001b[1;32m    497\u001b[0m         \u001b[0;32mif\u001b[0m \u001b[0mx\u001b[0m\u001b[0;34m.\u001b[0m\u001b[0mshape\u001b[0m\u001b[0;34m[\u001b[0m\u001b[0;36m0\u001b[0m\u001b[0;34m]\u001b[0m \u001b[0;34m!=\u001b[0m \u001b[0my\u001b[0m\u001b[0;34m.\u001b[0m\u001b[0mshape\u001b[0m\u001b[0;34m[\u001b[0m\u001b[0;36m0\u001b[0m\u001b[0;34m]\u001b[0m\u001b[0;34m:\u001b[0m\u001b[0;34m\u001b[0m\u001b[0;34m\u001b[0m\u001b[0m\n\u001b[0;32m--> 498\u001b[0;31m             raise ValueError(f\"x and y must have same first dimension, but \"\n\u001b[0m\u001b[1;32m    499\u001b[0m                              f\"have shapes {x.shape} and {y.shape}\")\n\u001b[1;32m    500\u001b[0m         \u001b[0;32mif\u001b[0m \u001b[0mx\u001b[0m\u001b[0;34m.\u001b[0m\u001b[0mndim\u001b[0m \u001b[0;34m>\u001b[0m \u001b[0;36m2\u001b[0m \u001b[0;32mor\u001b[0m \u001b[0my\u001b[0m\u001b[0;34m.\u001b[0m\u001b[0mndim\u001b[0m \u001b[0;34m>\u001b[0m \u001b[0;36m2\u001b[0m\u001b[0;34m:\u001b[0m\u001b[0;34m\u001b[0m\u001b[0;34m\u001b[0m\u001b[0m\n",
      "\u001b[0;31mValueError\u001b[0m: x and y must have same first dimension, but have shapes (4900,) and (60200,)"
     ]
    },
    {
     "data": {
      "image/png": "[encoded data removed]",
      "text/plain": [
       "<Figure size 1080x1080 with 3 Axes>"
      ]
     },
     "metadata": {
      "needs_background": "light"
     },
     "output_type": "display_data"
    }
   ],
   "source": [
    "import matplotlib.pyplot as plt\n",
    "\n",
    "train_losses = main.getTrainLoss()\n",
    "test_losses = main.getTestLoss()\n",
    "    \n",
    "train_acc = main.getTrainAcc()\n",
    "test_acc = main.getTestAcc()\n",
    "\n",
    "lr_plot = main.getlrVals()\n",
    "print(\"LR peak at : \", lr_plot.index(max(lr_plot))/98, \"th epoch\")\n",
    "\n",
    "x_array = []\n",
    "for x in range(0, epochs*98):\n",
    "    x_array.append(x/98)\n",
    "    \n",
    "fig, axs = plt.subplots(3,1,figsize=(15,15))\n",
    "axs[0].plot(train_losses, color='b', label='Train Loss')\n",
    "axs[0].plot(test_losses, color='g', label='Test Loss')\n",
    "axs[0].grid()\n",
    "axs[1].plot(train_acc, color='b', label='Train Accuracy')\n",
    "axs[1].plot(test_acc, color='g', label='Test Accuracy')\n",
    "axs[1].grid()\n",
    "axs[2].plot(x_array, lr_plot)\n",
    "axs[2].grid()\n",
    "axs[0].legend(loc=\"upper right\")\n",
    "axs[1].legend(loc=\"lower right\")\n",
    "axs[0].set_title(\"Training/Testing Loss\")\n",
    "axs[1].set_title(\"Training/Testing Accuracy\")\n",
    "axs[2].set_title(\"One Cycle Learning Rate\")\n",
    "\n",
    "plt.savefig('plot.jpg', bbox_inches='tight')"
   ]
  }
 ],
 "metadata": {
  "accelerator": "GPU",
  "colab": {
   "authorship_tag": "ABX9TyMrw9IvrG8Ic/6QIPVDL+Cj",
   "collapsed_sections": [],
   "include_colab_link": true,
   "mount_file_id": "1lJS2Y-UPP1gtnQebozR7uJJcozihhDcd",
   "name": "EVA4-S12-A-Solution.ipynb",
   "provenance": [],
   "toc_visible": true
  },
  "kernelspec": {
   "display_name": "Python 3 (ipykernel)",
   "language": "python",
   "name": "python3"
  },
  "language_info": {
   "codemirror_mode": {
    "name": "ipython",
    "version": 3
   },
   "file_extension": ".py",
   "mimetype": "text/x-python",
   "name": "python",
   "nbconvert_exporter": "python",
   "pygments_lexer": "ipython3",
   "version": "3.8.12"
  }
 },
 "nbformat": 4,
 "nbformat_minor": 1
}
